{
 "cells": [
  {
   "cell_type": "code",
   "execution_count": 1,
   "metadata": {
    "collapsed": true
   },
   "outputs": [],
   "source": [
    "import nltk\n",
    "import numpy as np\n",
    "import collections"
   ]
  },
  {
   "cell_type": "code",
   "execution_count": 2,
   "metadata": {
    "collapsed": true
   },
   "outputs": [],
   "source": [
    "corpus =\"\"\"\n",
    "Monty Python (sometimes known as The Pythons) were a British surreal comedy group who created the sketch comedy show Monty Python's Flying Circus,\n",
    "that first aired on the BBC on October 5, 1969. Forty-five episodes were made over four series. The Python phenomenon developed from the television series\n",
    "into something larger in scope and impact, spawning touring stage shows, films, numerous albums, several books, and a stage musical.\n",
    "The group's influence on comedy has been compared to The Beatles' influence on music.\"\"\""
   ]
  },
  {
   "cell_type": "code",
   "execution_count": 3,
   "metadata": {
    "collapsed": false
   },
   "outputs": [
    {
     "data": {
      "text/plain": [
       "\"\\nMonty Python (sometimes known as The Pythons) were a British surreal comedy group who created the sketch comedy show Monty Python's Flying Circus,\\nthat first aired on the BBC on October 5, 1969. Forty-five episodes were made over four series. The Python phenomenon developed from the television series\\ninto something larger in scope and impact, spawning touring stage shows, films, numerous albums, several books, and a stage musical.\\nThe group's influence on comedy has been compared to The Beatles' influence on music.\""
      ]
     },
     "execution_count": 3,
     "metadata": {},
     "output_type": "execute_result"
    }
   ],
   "source": [
    "corpus"
   ]
  },
  {
   "cell_type": "code",
   "execution_count": 4,
   "metadata": {
    "collapsed": true
   },
   "outputs": [],
   "source": [
    "tokens = nltk.word_tokenize(corpus)\n",
    "\n",
    "#here you construct the unigram language model \n",
    "def unigram(tokens):    \n",
    "    model = collections.defaultdict(lambda: 0.01)\n",
    "    for f in tokens:\n",
    "        try:\n",
    "            model[f] += 1\n",
    "        except KeyError:\n",
    "            model [f] = 1\n",
    "            continue\n",
    "    for word in model:\n",
    "        model[word] = model[word]/float(len(model))\n",
    "    return model"
   ]
  },
  {
   "cell_type": "code",
   "execution_count": 8,
   "metadata": {
    "collapsed": false
   },
   "outputs": [
    {
     "data": {
      "text/plain": [
       "['Monty',\n",
       " 'Python',\n",
       " '(',\n",
       " 'sometimes',\n",
       " 'known',\n",
       " 'as',\n",
       " 'The',\n",
       " 'Pythons',\n",
       " ')',\n",
       " 'were',\n",
       " 'a',\n",
       " 'British',\n",
       " 'surreal',\n",
       " 'comedy',\n",
       " 'group',\n",
       " 'who',\n",
       " 'created',\n",
       " 'the',\n",
       " 'sketch',\n",
       " 'comedy',\n",
       " 'show',\n",
       " 'Monty',\n",
       " 'Python',\n",
       " \"'s\",\n",
       " 'Flying',\n",
       " 'Circus',\n",
       " ',',\n",
       " 'that',\n",
       " 'first',\n",
       " 'aired',\n",
       " 'on',\n",
       " 'the',\n",
       " 'BBC',\n",
       " 'on',\n",
       " 'October',\n",
       " '5',\n",
       " ',',\n",
       " '1969',\n",
       " '.',\n",
       " 'Forty-five',\n",
       " 'episodes',\n",
       " 'were',\n",
       " 'made',\n",
       " 'over',\n",
       " 'four',\n",
       " 'series',\n",
       " '.',\n",
       " 'The',\n",
       " 'Python',\n",
       " 'phenomenon',\n",
       " 'developed',\n",
       " 'from',\n",
       " 'the',\n",
       " 'television',\n",
       " 'series',\n",
       " 'into',\n",
       " 'something',\n",
       " 'larger',\n",
       " 'in',\n",
       " 'scope',\n",
       " 'and',\n",
       " 'impact',\n",
       " ',',\n",
       " 'spawning',\n",
       " 'touring',\n",
       " 'stage',\n",
       " 'shows',\n",
       " ',',\n",
       " 'films',\n",
       " ',',\n",
       " 'numerous',\n",
       " 'albums',\n",
       " ',',\n",
       " 'several',\n",
       " 'books',\n",
       " ',',\n",
       " 'and',\n",
       " 'a',\n",
       " 'stage',\n",
       " 'musical',\n",
       " '.',\n",
       " 'The',\n",
       " 'group',\n",
       " \"'s\",\n",
       " 'influence',\n",
       " 'on',\n",
       " 'comedy',\n",
       " 'has',\n",
       " 'been',\n",
       " 'compared',\n",
       " 'to',\n",
       " 'The',\n",
       " 'Beatles',\n",
       " \"'\",\n",
       " 'influence',\n",
       " 'on',\n",
       " 'music',\n",
       " '.']"
      ]
     },
     "execution_count": 8,
     "metadata": {},
     "output_type": "execute_result"
    }
   ],
   "source": [
    "tokens"
   ]
  },
  {
   "cell_type": "code",
   "execution_count": 5,
   "metadata": {
    "collapsed": true
   },
   "outputs": [],
   "source": [
    "#computes perplexity of the unigram model on a testset  \n",
    "def perplexity(testset, model):\n",
    "    testset = testset.split()\n",
    "    perplexity = 1\n",
    "    N = 0\n",
    "    for word in testset:\n",
    "        N += 1\n",
    "        perplexity = perplexity * (1/model[word])\n",
    "    perplexity = pow(perplexity, 1/float(N)) \n",
    "    return perplexity"
   ]
  },
  {
   "cell_type": "code",
   "execution_count": 7,
   "metadata": {
    "collapsed": false
   },
   "outputs": [
    {
     "name": "stdout",
     "output_type": "stream",
     "text": [
      "33.83084577114428\n",
      "99.99999999999997\n"
     ]
    }
   ],
   "source": [
    "testset1 = \"Monty\"\n",
    "testset2 = \"abracadabra gobbledygook rubbish\"\n",
    "\n",
    "model = unigram(tokens)\n",
    "print(perplexity(testset1, model))\n",
    "print(perplexity(testset2, model))"
   ]
  },
  {
   "cell_type": "code",
   "execution_count": 9,
   "metadata": {
    "collapsed": false
   },
   "outputs": [
    {
     "data": {
      "text/plain": [
       "defaultdict(<function __main__.unigram.<locals>.<lambda>>,\n",
       "            {\"'\": 0.014852941176470588,\n",
       "             \"'s\": 0.029558823529411762,\n",
       "             '(': 0.014852941176470588,\n",
       "             ')': 0.014852941176470588,\n",
       "             ',': 0.10308823529411765,\n",
       "             '.': 0.058970588235294115,\n",
       "             '1969': 0.014852941176470588,\n",
       "             '5': 0.014852941176470588,\n",
       "             'BBC': 0.014852941176470588,\n",
       "             'Beatles': 0.014852941176470588,\n",
       "             'British': 0.014852941176470588,\n",
       "             'Circus': 0.014852941176470588,\n",
       "             'Flying': 0.014852941176470588,\n",
       "             'Forty-five': 0.014852941176470588,\n",
       "             'Monty': 0.029558823529411762,\n",
       "             'October': 0.014852941176470588,\n",
       "             'Python': 0.044264705882352935,\n",
       "             'Pythons': 0.014852941176470588,\n",
       "             'The': 0.058970588235294115,\n",
       "             'a': 0.029558823529411762,\n",
       "             'abracadabra': 0.01,\n",
       "             'aired': 0.014852941176470588,\n",
       "             'albums': 0.014852941176470588,\n",
       "             'and': 0.029558823529411762,\n",
       "             'as': 0.014852941176470588,\n",
       "             'been': 0.014852941176470588,\n",
       "             'books': 0.014852941176470588,\n",
       "             'comedy': 0.044264705882352935,\n",
       "             'compared': 0.014852941176470588,\n",
       "             'created': 0.014852941176470588,\n",
       "             'developed': 0.014852941176470588,\n",
       "             'episodes': 0.014852941176470588,\n",
       "             'films': 0.014852941176470588,\n",
       "             'first': 0.014852941176470588,\n",
       "             'four': 0.014852941176470588,\n",
       "             'from': 0.014852941176470588,\n",
       "             'gobbledygook': 0.01,\n",
       "             'group': 0.029558823529411762,\n",
       "             'has': 0.014852941176470588,\n",
       "             'impact': 0.014852941176470588,\n",
       "             'in': 0.014852941176470588,\n",
       "             'influence': 0.029558823529411762,\n",
       "             'into': 0.014852941176470588,\n",
       "             'known': 0.014852941176470588,\n",
       "             'larger': 0.014852941176470588,\n",
       "             'made': 0.014852941176470588,\n",
       "             'music': 0.014852941176470588,\n",
       "             'musical': 0.014852941176470588,\n",
       "             'numerous': 0.014852941176470588,\n",
       "             'on': 0.058970588235294115,\n",
       "             'over': 0.014852941176470588,\n",
       "             'phenomenon': 0.014852941176470588,\n",
       "             'rubbish': 0.01,\n",
       "             'scope': 0.014852941176470588,\n",
       "             'series': 0.029558823529411762,\n",
       "             'several': 0.014852941176470588,\n",
       "             'show': 0.014852941176470588,\n",
       "             'shows': 0.014852941176470588,\n",
       "             'sketch': 0.014852941176470588,\n",
       "             'something': 0.014852941176470588,\n",
       "             'sometimes': 0.014852941176470588,\n",
       "             'spawning': 0.014852941176470588,\n",
       "             'stage': 0.029558823529411762,\n",
       "             'surreal': 0.014852941176470588,\n",
       "             'television': 0.014852941176470588,\n",
       "             'that': 0.014852941176470588,\n",
       "             'the': 0.044264705882352935,\n",
       "             'to': 0.014852941176470588,\n",
       "             'touring': 0.014852941176470588,\n",
       "             'were': 0.029558823529411762,\n",
       "             'who': 0.014852941176470588})"
      ]
     },
     "execution_count": 9,
     "metadata": {},
     "output_type": "execute_result"
    }
   ],
   "source": [
    "model"
   ]
  },
  {
   "cell_type": "code",
   "execution_count": null,
   "metadata": {
    "collapsed": true
   },
   "outputs": [],
   "source": []
  }
 ],
 "metadata": {
  "anaconda-cloud": {},
  "kernelspec": {
   "display_name": "Python [conda env:py35]",
   "language": "python",
   "name": "conda-env-py35-py"
  },
  "language_info": {
   "codemirror_mode": {
    "name": "ipython",
    "version": 3
   },
   "file_extension": ".py",
   "mimetype": "text/x-python",
   "name": "python",
   "nbconvert_exporter": "python",
   "pygments_lexer": "ipython3",
   "version": "3.5.2"
  }
 },
 "nbformat": 4,
 "nbformat_minor": 1
}
