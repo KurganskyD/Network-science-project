{
 "cells": [
  {
   "cell_type": "code",
   "execution_count": 35,
   "metadata": {
    "collapsed": true
   },
   "outputs": [],
   "source": [
    "import pandas as pd\n",
    "import numpy as np"
   ]
  },
  {
   "cell_type": "code",
   "execution_count": 86,
   "metadata": {
    "collapsed": true
   },
   "outputs": [],
   "source": [
    "df = pd.read_table('docword.kos.txt', delim_whitespace=True, names=('d', 'w', 'count'), skiprows = 3)"
   ]
  },
  {
   "cell_type": "code",
   "execution_count": 87,
   "metadata": {
    "collapsed": true
   },
   "outputs": [],
   "source": [
    "t = 10\n",
    "w = 6906\n",
    "d = 3430\n",
    "\n",
    "def number_of_words():\n",
    "    a = np.random.uniform(low=0.0, high=1.0, size=w)\n",
    "    a = a / a.sum()\n",
    "    return a\n",
    "\n",
    "def number_of_themes():\n",
    "    a = np.random.uniform(low=0.0, high=1.0, size=t)\n",
    "    a = a / a.sum()\n",
    "    return a"
   ]
  },
  {
   "cell_type": "code",
   "execution_count": 88,
   "metadata": {
    "collapsed": true
   },
   "outputs": [],
   "source": [
    "fi = number_of_words()\n",
    "for i in range(t-1):\n",
    "    fi = np.vstack([fi, number_of_words()])\n",
    "\n",
    "tetta = number_of_themes()\n",
    "for i in range(d-1):\n",
    "    tetta = np.vstack([tetta, number_of_themes()])"
   ]
  },
  {
   "cell_type": "code",
   "execution_count": 89,
   "metadata": {
    "collapsed": false
   },
   "outputs": [],
   "source": [
    "fi = np.transpose(fi)\n",
    "tetta = np.transpose(tetta)"
   ]
  },
  {
   "cell_type": "code",
   "execution_count": 90,
   "metadata": {
    "collapsed": true
   },
   "outputs": [],
   "source": [
    "x = []\n",
    "for i in xrange(3430):\n",
    "    x.append([])"
   ]
  },
  {
   "cell_type": "code",
   "execution_count": 91,
   "metadata": {
    "collapsed": false
   },
   "outputs": [],
   "source": [
    "df.sort_values(by=['w'], inplace = True)\n",
    "df.reset_index(drop=True, inplace=True)"
   ]
  },
  {
   "cell_type": "code",
   "execution_count": 92,
   "metadata": {
    "collapsed": false
   },
   "outputs": [],
   "source": [
    "y = []\n",
    "d = 1\n",
    "k = 0\n",
    "y.append([])\n",
    "for i in df['w']:\n",
    "    if i == d:\n",
    "        y[d-1].append((df['d'][k],df['count'][k]))\n",
    "        x[df['d'][k]-1].append((d-1, len(y[d-1])-1, df['count'][k]))\n",
    "    else:\n",
    "        d = d+1\n",
    "        y.append([])\n",
    "        y[d-1].append((df['d'][k],df['count'][k]))\n",
    "        x[df['d'][k]-1].append((d-1, len(y[d-1])-1, df['count'][k]))\n",
    "    k=k+1"
   ]
  },
  {
   "cell_type": "code",
   "execution_count": 93,
   "metadata": {
    "collapsed": false
   },
   "outputs": [
    {
     "name": "stdout",
     "output_type": "stream",
     "text": [
      "0\n"
     ]
    }
   ],
   "source": [
    "for i in xrange(1):\n",
    "    print i\n",
    "    A = []\n",
    "    for w in xrange(len(y)):\n",
    "        A.append([])\n",
    "        for d in xrange(len(y[w])):\n",
    "            A[w].append([])\n",
    "            z = 0\n",
    "            for t in xrange(10):\n",
    "                z = z + fi[w][t] * tetta[t][y[w][d][0]-1]\n",
    "            for t in xrange(10):\n",
    "                A[w][d].append(fi[w][t] * tetta[t][y[w][d][0]-1] / z)\n",
    "\n",
    "    summa_po_slovam = []\n",
    "    summa_po_slovam_i_temam = []\n",
    "    for t in xrange(10):\n",
    "        summa_po_slovam.append([])\n",
    "        k = 0\n",
    "        for w in xrange(len(y)):\n",
    "            z = 0\n",
    "            for d in xrange(len(y[w])):\n",
    "                z = z + y[w][d][1] * A[w][d][t]\n",
    "            summa_po_slovam[t].append(z)\n",
    "            k = k + z\n",
    "        summa_po_slovam_i_temam.append(k)\n",
    "\n",
    "    for t in xrange(10):\n",
    "        for w in xrange(len(y)):\n",
    "            fi[w][t] = summa_po_slovam[t][w] / summa_po_slovam_i_temam[t]\n",
    "\n",
    "    for t in xrange(10):\n",
    "        for d in xrange(len(x)):\n",
    "            z = 0\n",
    "            for w in xrange(len(x[d])):\n",
    "                z = z + x[d][w][2] * A[x[d][w][0]][x[d][w][1]][t]\n",
    "            tetta[t][d] = z / 3430"
   ]
  },
  {
   "cell_type": "code",
   "execution_count": 57,
   "metadata": {
    "collapsed": false
   },
   "outputs": [
    {
     "name": "stdout",
     "output_type": "stream",
     "text": [
      "[3356 1708 2544 1101 3387 1149 1104 1395 1831 3219]\n",
      "[1862 2025 2544 2740 1400 1603 2519 3352 1849 2349]\n",
      "[1567  556 1707 2323 2538  479  189 1571 1738 1046]\n",
      "[ 499 3049   22 1705 1541 1641 2963 1586 2945  880]\n",
      "[2434 2354 2384 2063 1948 2043 1932 1952 1954 2540]\n",
      "[2302 1437  388 2702 2778 1593  294 1767 2994 2655]\n",
      "[ 411  229  723 1610 1629 1678  203  400 1769 3401]\n",
      "[3087 1196 1623 2843 2851 1287  404 2730 2218   49]\n",
      "[2690 3410 2037  594 2148   31 1517  231  619 2278]\n",
      "[ 560 1664 1256 1533  895 1054 1294 1036  678  929]\n"
     ]
    }
   ],
   "source": [
    "for i in xrange(10):\n",
    "    ind = np.argpartition(tetta[i], -10)[-10:]\n",
    "    print ind"
   ]
  },
  {
   "cell_type": "code",
   "execution_count": 94,
   "metadata": {
    "collapsed": false
   },
   "outputs": [
    {
     "name": "stdout",
     "output_type": "stream",
     "text": [
      "[1095 2029 3419 3281 3857   88 4940 2639 4493 6295 3004 6661  840 4631 4734\n",
      " 1579 6688 1665 4195 6658]\n",
      "[2702 1579 4493 4441 6661  846 5895 3857 4634 4496 4760 4631 6295 1663 3419\n",
      " 3281 4195  840  878 3004]\n",
      "[4496 4092 4441 5551 4195 2012 1663 5890 4142 6688 4940 3857 4760 1665 2639\n",
      " 4631  840 3281 3419 3004]\n",
      "[6688 6661  237 4760 4940 2029 3349 4496 6295 2639 5551 4734 1663 1579  840\n",
      " 6658 3419 5185 4493 4631]\n",
      "[6658 4631 4634 4142 1665 4496 4493 3281 5184 4734   88 2029 1579 6295  840\n",
      " 3004 6688 4195 1663 3419]\n",
      "[4760 2718  840 2012 5895 4631 4441 1665 2639  878 5551 3004 3281 3857 4734\n",
      " 3419 5185 4195 2029 1663]\n",
      "[4941  846 5184 5551 2702 4493 1663 4940 1665  878 3281 4631 3004 2639 4195\n",
      " 5890 5185  840 6688 3419]\n",
      "[5185 4626 5895 6295 1665 3281 4493 5890 4634 4631 4760 1579 2029 2639 6658\n",
      " 4195 4441  840  878 5551]\n",
      "[4940 5895 3857 6658 5184  846 5185  840   88  878 3419 2030 3281 5890 6661\n",
      " 6688 4634 4734 1663 5551]\n",
      "[4246  892 4941 4634 4626   88 3004 5184 4734  840 5185 2029 1663 4195 5890\n",
      " 2012 4142 4496 5551 4631]\n"
     ]
    }
   ],
   "source": [
    "fi_transpose = np.transpose(fi)\n",
    "for i in xrange(10):\n",
    "    ind1 = np.argpartition(fi_transpose[i], -20)[-20:]\n",
    "    print ind1"
   ]
  },
  {
   "cell_type": "code",
   "execution_count": 95,
   "metadata": {
    "collapsed": true
   },
   "outputs": [],
   "source": [
    "df = pd.read_table('vocab.kos.txt', delim_whitespace=True, names=('w'))\n",
    "ind1 = np.argpartition(fi_transpose[1], -20)[-20:]"
   ]
  },
  {
   "cell_type": "code",
   "execution_count": 78,
   "metadata": {
    "collapsed": false
   },
   "outputs": [
    {
     "name": "stdout",
     "output_type": "stream",
     "text": [
      "account\n",
      "bush\n",
      "contact\n",
      "election\n",
      "electoral\n",
      "experience\n",
      "general\n",
      "governor\n",
      "house\n",
      "kerry\n",
      "november\n",
      "poll\n",
      "polls\n",
      "primary\n",
      "republicans\n",
      "senate\n",
      "sunzoo\n",
      "vote\n",
      "voter\n",
      "voting\n"
     ]
    }
   ],
   "source": [
    "for i in xrange(6906):\n",
    "    for j in xrange(len(ind)):\n",
    "        if i == ind[j]:\n",
    "            print df['w'][i]"
   ]
  },
  {
   "cell_type": "code",
   "execution_count": 96,
   "metadata": {
    "collapsed": false
   },
   "outputs": [
    {
     "name": "stdout",
     "output_type": "stream",
     "text": [
      "bush\n",
      "bushs\n",
      "campaign\n",
      "dean\n",
      "democratic\n",
      "gop\n",
      "house\n",
      "iraq\n",
      "kerry\n",
      "media\n",
      "november\n",
      "party\n",
      "people\n",
      "percent\n",
      "poll\n",
      "polls\n",
      "primary\n",
      "states\n",
      "time\n",
      "voters\n"
     ]
    }
   ],
   "source": [
    "for i in xrange(6906):\n",
    "    for j in xrange(len(ind1)):\n",
    "        if i == ind1[j]:\n",
    "            print df['w'][i]"
   ]
  },
  {
   "cell_type": "code",
   "execution_count": null,
   "metadata": {
    "collapsed": true
   },
   "outputs": [],
   "source": []
  }
 ],
 "metadata": {
  "anaconda-cloud": {},
  "kernelspec": {
   "display_name": "Python [conda root]",
   "language": "python",
   "name": "conda-root-py"
  },
  "language_info": {
   "codemirror_mode": {
    "name": "ipython",
    "version": 2
   },
   "file_extension": ".py",
   "mimetype": "text/x-python",
   "name": "python",
   "nbconvert_exporter": "python",
   "pygments_lexer": "ipython2",
   "version": "2.7.12"
  }
 },
 "nbformat": 4,
 "nbformat_minor": 1
}
