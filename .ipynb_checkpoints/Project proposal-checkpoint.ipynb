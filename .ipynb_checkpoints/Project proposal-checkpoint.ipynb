{
 "cells": [
  {
   "cell_type": "markdown",
   "metadata": {},
   "source": [
    "# Tagging and Visualizing Community Interests, Measuring Influence inside community, and impact of community in the whole network"
   ]
  },
  {
   "cell_type": "markdown",
   "metadata": {},
   "source": [
    "## Plan\n",
    "1. Данные для анализа (выбрать сообщества для анализа (И))\n",
    "2. Introduction for paper (Обзор того, как делается теггирование (1,5 стр) + по 0,5 на каждый алгоритм кластеризации), См. Расстояние Уорда, косинус (Ward distance), сокращение размерности.\n",
    "3. Подсчитать наиболее значимые слова в полученном кластере Disp(TF/IDF), top 10\n",
    "4. Проверить аддитивность, транзитивность, гомогенность сообществ\n",
    "Profit"
   ]
  },
  {
   "cell_type": "code",
   "execution_count": null,
   "metadata": {
    "collapsed": true
   },
   "outputs": [],
   "source": []
  }
 ],
 "metadata": {
  "kernelspec": {
   "display_name": "Python [conda root]",
   "language": "python",
   "name": "conda-root-py"
  },
  "language_info": {
   "codemirror_mode": {
    "name": "ipython",
    "version": 2
   },
   "file_extension": ".py",
   "mimetype": "text/x-python",
   "name": "python",
   "nbconvert_exporter": "python",
   "pygments_lexer": "ipython2",
   "version": "2.7.12"
  }
 },
 "nbformat": 4,
 "nbformat_minor": 1
}
