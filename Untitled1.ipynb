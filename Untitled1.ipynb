{
 "cells": [
  {
   "cell_type": "code",
   "execution_count": 110,
   "metadata": {
    "collapsed": true
   },
   "outputs": [],
   "source": [
    "import textmining"
   ]
  },
  {
   "cell_type": "code",
   "execution_count": 102,
   "metadata": {
    "collapsed": false
   },
   "outputs": [],
   "source": [
    "documents_with_marked_terms = []\n",
    "documents_with_marked_terms.append([])\n",
    "number_of_document = 0\n",
    "find_stop_word_flag = 0\n",
    "\n",
    "with open(\"C:\\DB\\kurgansky_lemmas_0.txt\", encoding=\"utf-8\") as f:\n",
    "    for paragraph in f:\n",
    "        for word in paragraph.split():\n",
    "            if word == \"########\":\n",
    "                documents_with_marked_terms.append([])\n",
    "                number_of_document += 1\n",
    "            else:\n",
    "                for i in ['_PREP', '_X', '_ADJ_PRONOUN', '_PUNCT', '_NOUN_PRONOUN', '_CONJ', '_PART']:\n",
    "                    pattern = re.compile(i)\n",
    "                    if pattern.search(word):\n",
    "                        find_stop_word_flag = 1\n",
    "                        break\n",
    "                if find_stop_word_flag != 1:\n",
    "                    documents_with_marked_terms[number_of_document].append(re.sub('_.*','', word))\n",
    "                find_stop_word_flag = 0"
   ]
  },
  {
   "cell_type": "code",
   "execution_count": 103,
   "metadata": {
    "collapsed": false
   },
   "outputs": [
    {
     "data": {
      "text/plain": [
       "['звонить',\n",
       " 'г-н',\n",
       " 'юрченко',\n",
       " 'председатель',\n",
       " 'исполком',\n",
       " 'гражданский',\n",
       " 'платформа',\n",
       " 'требовать',\n",
       " 'письменный',\n",
       " 'объяснение',\n",
       " 'участие',\n",
       " 'вильнюсский',\n",
       " 'форум',\n",
       " 'несмотря',\n",
       " 'достаточно',\n",
       " 'резкий',\n",
       " 'форма',\n",
       " 'общение',\n",
       " 'начальственный',\n",
       " 'выволочка',\n",
       " 'решать',\n",
       " 'объяснение',\n",
       " 'предоставлять',\n",
       " 'завтрашний',\n",
       " 'съезд',\n",
       " 'быть',\n",
       " 'возможность',\n",
       " 'теоретический',\n",
       " 'разбираться',\n",
       " 'история',\n",
       " 'вынести',\n",
       " 'справедливый',\n",
       " 'решение']"
      ]
     },
     "execution_count": 103,
     "metadata": {},
     "output_type": "execute_result"
    }
   ],
   "source": []
  },
  {
   "cell_type": "code",
   "execution_count": 111,
   "metadata": {
    "collapsed": false
   },
   "outputs": [
    {
     "ename": "AttributeError",
     "evalue": "'list' object has no attribute 'lower'",
     "output_type": "error",
     "traceback": [
      "\u001b[0;31m---------------------------------------------------------------------------\u001b[0m",
      "\u001b[0;31mAttributeError\u001b[0m                            Traceback (most recent call last)",
      "\u001b[0;32m<ipython-input-111-566434c580c5>\u001b[0m in \u001b[0;36m<module>\u001b[0;34m()\u001b[0m\n\u001b[1;32m      1\u001b[0m \u001b[0mtdm\u001b[0m \u001b[1;33m=\u001b[0m \u001b[0mtextmining\u001b[0m\u001b[1;33m.\u001b[0m\u001b[0mTermDocumentMatrix\u001b[0m\u001b[1;33m(\u001b[0m\u001b[1;33m)\u001b[0m\u001b[1;33m\u001b[0m\u001b[0m\n\u001b[1;32m      2\u001b[0m \u001b[1;32mfor\u001b[0m \u001b[0mi\u001b[0m \u001b[1;32min\u001b[0m \u001b[0mrange\u001b[0m\u001b[1;33m(\u001b[0m\u001b[0mlen\u001b[0m\u001b[1;33m(\u001b[0m\u001b[0mdocuments_with_marked_terms\u001b[0m\u001b[1;33m)\u001b[0m\u001b[1;33m)\u001b[0m\u001b[1;33m:\u001b[0m\u001b[1;33m\u001b[0m\u001b[0m\n\u001b[0;32m----> 3\u001b[0;31m     \u001b[0mtdm\u001b[0m\u001b[1;33m.\u001b[0m\u001b[0madd_doc\u001b[0m\u001b[1;33m(\u001b[0m\u001b[0mdocuments_with_marked_terms\u001b[0m\u001b[1;33m[\u001b[0m\u001b[0mi\u001b[0m\u001b[1;33m]\u001b[0m\u001b[1;33m)\u001b[0m\u001b[1;33m\u001b[0m\u001b[0m\n\u001b[0m",
      "\u001b[0;32mC:\\Users\\Dmitry\\Anaconda2\\envs\\py35\\lib\\site-packages\\textmining\\__init__.py\u001b[0m in \u001b[0;36madd_doc\u001b[0;34m(self, document)\u001b[0m\n\u001b[1;32m    296\u001b[0m         \u001b[1;34m\"\"\"Add document to the term-document matrix.\"\"\"\u001b[0m\u001b[1;33m\u001b[0m\u001b[0m\n\u001b[1;32m    297\u001b[0m         \u001b[1;31m# Split document up into list of strings\u001b[0m\u001b[1;33m\u001b[0m\u001b[1;33m\u001b[0m\u001b[0m\n\u001b[0;32m--> 298\u001b[0;31m         \u001b[0mwords\u001b[0m \u001b[1;33m=\u001b[0m \u001b[0mself\u001b[0m\u001b[1;33m.\u001b[0m\u001b[0mtokenize\u001b[0m\u001b[1;33m(\u001b[0m\u001b[0mdocument\u001b[0m\u001b[1;33m)\u001b[0m\u001b[1;33m\u001b[0m\u001b[0m\n\u001b[0m\u001b[1;32m    299\u001b[0m         \u001b[1;31m# Count word frequencies in this document\u001b[0m\u001b[1;33m\u001b[0m\u001b[1;33m\u001b[0m\u001b[0m\n\u001b[1;32m    300\u001b[0m         \u001b[0mword_counts\u001b[0m \u001b[1;33m=\u001b[0m \u001b[1;33m{\u001b[0m\u001b[1;33m}\u001b[0m\u001b[1;33m\u001b[0m\u001b[0m\n",
      "\u001b[0;32mC:\\Users\\Dmitry\\Anaconda2\\envs\\py35\\lib\\site-packages\\textmining\\__init__.py\u001b[0m in \u001b[0;36msimple_tokenize\u001b[0;34m(document)\u001b[0m\n\u001b[1;32m     79\u001b[0m \u001b[1;33m\u001b[0m\u001b[0m\n\u001b[1;32m     80\u001b[0m     \"\"\"\n\u001b[0;32m---> 81\u001b[0;31m     \u001b[0mdocument\u001b[0m \u001b[1;33m=\u001b[0m \u001b[0mdocument\u001b[0m\u001b[1;33m.\u001b[0m\u001b[0mlower\u001b[0m\u001b[1;33m(\u001b[0m\u001b[1;33m)\u001b[0m\u001b[1;33m\u001b[0m\u001b[0m\n\u001b[0m\u001b[1;32m     82\u001b[0m     \u001b[0mdocument\u001b[0m \u001b[1;33m=\u001b[0m \u001b[0mre\u001b[0m\u001b[1;33m.\u001b[0m\u001b[0msub\u001b[0m\u001b[1;33m(\u001b[0m\u001b[1;34m'[^a-z]'\u001b[0m\u001b[1;33m,\u001b[0m \u001b[1;34m' '\u001b[0m\u001b[1;33m,\u001b[0m \u001b[0mdocument\u001b[0m\u001b[1;33m)\u001b[0m\u001b[1;33m\u001b[0m\u001b[0m\n\u001b[1;32m     83\u001b[0m     \u001b[1;32mreturn\u001b[0m \u001b[0mdocument\u001b[0m\u001b[1;33m.\u001b[0m\u001b[0mstrip\u001b[0m\u001b[1;33m(\u001b[0m\u001b[1;33m)\u001b[0m\u001b[1;33m.\u001b[0m\u001b[0msplit\u001b[0m\u001b[1;33m(\u001b[0m\u001b[1;33m)\u001b[0m\u001b[1;33m\u001b[0m\u001b[0m\n",
      "\u001b[0;31mAttributeError\u001b[0m: 'list' object has no attribute 'lower'"
     ]
    }
   ],
   "source": [
    "tdm = textmining.TermDocumentMatrix()\n",
    "for i in range(len(documents_with_marked_terms)):\n",
    "    tdm.add_doc(documents_with_marked_terms[i])"
   ]
  },
  {
   "cell_type": "code",
   "execution_count": null,
   "metadata": {
    "collapsed": true
   },
   "outputs": [],
   "source": [
    "tdm = textmining.TermDocumentMatrix()\n",
    "for i in range(len(documents_with_marked_terms)):\n",
    "    tdm.add_doc(documents_with_marked_terms[i])"
   ]
  },
  {
   "cell_type": "code",
   "execution_count": 84,
   "metadata": {
    "collapsed": false
   },
   "outputs": [
    {
     "name": "stdout",
     "output_type": "stream",
     "text": [
      "дмитрий_X\n",
      "иван_ддд\n",
      ",_PUNCT\n"
     ]
    },
    {
     "data": {
      "text/plain": [
       "['иван_ддд']"
      ]
     },
     "execution_count": 84,
     "metadata": {},
     "output_type": "execute_result"
    }
   ],
   "source": [
    "sentence = ['дмитрий_X', 'иван_ддд', ',_PUNCT']\n",
    "word1 = []\n",
    "\n",
    "for word in sentence:\n",
    "    print(word)\n",
    "    for i in ['_PREP', '_X', '_ADJ_PRONOUN', '_PUNCT', '_NOUN_PRONOUN', '_CONJ']:\n",
    "        pattern = re.compile(i)\n",
    "        print(i)\n",
    "        if pattern.search(word):\n",
    "            print('a')\n",
    "        word1.append(re.sub('_.*','', word))\n",
    "word1"
   ]
  },
  {
   "cell_type": "code",
   "execution_count": 34,
   "metadata": {
    "collapsed": false
   },
   "outputs": [
    {
     "name": "stdout",
     "output_type": "stream",
     "text": [
      "a\n"
     ]
    }
   ],
   "source": [
    "word = 'дмитрий_PREP'\n",
    "pattern = re.compile('_PREP')\n",
    "if pattern.search(word):\n",
    "    print('a')"
   ]
  }
 ],
 "metadata": {
  "anaconda-cloud": {},
  "kernelspec": {
   "display_name": "Python [conda env:py35]",
   "language": "python",
   "name": "conda-env-py35-py"
  },
  "language_info": {
   "codemirror_mode": {
    "name": "ipython",
    "version": 3
   },
   "file_extension": ".py",
   "mimetype": "text/x-python",
   "name": "python",
   "nbconvert_exporter": "python",
   "pygments_lexer": "ipython3",
   "version": "3.5.2"
  }
 },
 "nbformat": 4,
 "nbformat_minor": 1
}
